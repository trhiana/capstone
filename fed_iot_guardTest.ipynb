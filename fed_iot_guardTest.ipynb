{
  "cells": [
    {
      "cell_type": "markdown",
      "source": [
        "### Imports"
      ],
      "metadata": {
        "id": "h7lN4VhgANBP"
      }
    },
    {
      "cell_type": "code",
      "execution_count": null,
      "metadata": {
        "id": "NqGbUKYTwpIj"
      },
      "outputs": [],
      "source": [
        "from google.colab import drive\n",
        "drive.mount('/content/drive/')"
      ]
    },
    {
      "cell_type": "code",
      "execution_count": null,
      "metadata": {
        "id": "A1ohdcXHwzt2"
      },
      "outputs": [],
      "source": [
        "import os\n",
        "os.chdir('/content/drive/MyDrive/fed_iot_guard')"
      ]
    },
    {
      "cell_type": "markdown",
      "source": [
        "### Installing requirements"
      ],
      "metadata": {
        "id": "KBxbezFsAb4U"
      }
    },
    {
      "cell_type": "code",
      "execution_count": null,
      "metadata": {
        "id": "Tyjuz8kBw-WF"
      },
      "outputs": [],
      "source": [
        "!python3 -m pip install --upgrade pip"
      ]
    },
    {
      "cell_type": "code",
      "execution_count": null,
      "metadata": {
        "id": "glaWjHx3xJRX"
      },
      "outputs": [],
      "source": [
        "!pip install -r requirements.txt"
      ]
    },
    {
      "cell_type": "markdown",
      "source": [
        "### Federated"
      ],
      "metadata": {
        "id": "Cf8xhJE6AiZJ"
      }
    },
    {
      "cell_type": "code",
      "execution_count": null,
      "metadata": {
        "id": "TX6Db4mVxPD6"
      },
      "outputs": [],
      "source": [
        "!python src/main.py decentralized autoencoder --test --fedavg --collaborative --verbose-depth=1"
      ]
    },
    {
      "cell_type": "code",
      "source": [
        "!python src/main.py decentralized autoencoder --test --fedavg --collaborative --verbose-depth=2"
      ],
      "metadata": {
        "id": "8nDqiMTCQFYJ"
      },
      "execution_count": null,
      "outputs": []
    },
    {
      "cell_type": "code",
      "source": [
        "!python src/main.py decentralized autoencoder --test --fedsgd --collaborative --verbose-depth=2"
      ],
      "metadata": {
        "id": "1bniwed9ylDw"
      },
      "execution_count": null,
      "outputs": []
    },
    {
      "cell_type": "code",
      "source": [
        "!python src/main.py decentralized classifier --test --fedavg --collaborative --verbose-depth=2"
      ],
      "metadata": {
        "id": "4So046TjB8iL",
        "colab": {
          "base_uri": "https://localhost:8080/"
        },
        "outputId": "b1b1a42c-7c93-4c4e-deea-fe6e7b8abc7c"
      },
      "execution_count": null,
      "outputs": [
        {
          "output_type": "stream",
          "name": "stdout",
          "text": [
            "\u001b[1m\u001b[0m\n",
            "\u001b[1m\t\t\t\t\tFEDAVG DECENTRALIZED CLASSIFIER TESTING\u001b[0m\n",
            "\u001b[1m\u001b[0m\n",
            "Using CPU\u001b[0m\n",
            "\u001b[94mFederation params: {'aggregation_function': <function federated_averaging at 0x7f76c5fa1af0>, 'resampling': None, 'federation_rounds': 1, 'gamma_round': 0.75}\u001b[0m\n",
            "[{'clients_devices': [[1], [2], [3], [4], [5], [6], [7], [8]], 'test_devices': [0]}, {'clients_devices': [[0], [2], [3], [4], [5], [6], [7], [8]], 'test_devices': [1]}, {'clients_devices': [[0], [1], [3], [4], [5], [6], [7], [8]], 'test_devices': [2]}, {'clients_devices': [[0], [1], [2], [4], [5], [6], [7], [8]], 'test_devices': [3]}, {'clients_devices': [[0], [1], [2], [3], [5], [6], [7], [8]], 'test_devices': [4]}, {'clients_devices': [[0], [1], [2], [3], [4], [6], [7], [8]], 'test_devices': [5]}, {'clients_devices': [[0], [1], [2], [3], [4], [5], [7], [8]], 'test_devices': [6]}, {'clients_devices': [[0], [1], [2], [3], [4], [5], [6], [8]], 'test_devices': [7]}, {'clients_devices': [[0], [1], [2], [3], [4], [5], [6], [7]], 'test_devices': [8]}]\u001b[0m\n",
            "\u001b[93m\u001b[1mReading data\u001b[0m\n",
            "\u001b[93m█ \u001b[0m[1/9] Data from Danmini_Doorbell\u001b[0m\n",
            "\u001b[93m█ \u001b[0m[2/9] Data from Ecobee_Thermostat\u001b[0m\n",
            "\u001b[93m█ \u001b[0m[3/9] Data from Ennio_Doorbell\u001b[0m\n",
            "\u001b[93m█ \u001b[0m[4/9] Data from Philips_B120N10_Baby_Monitor\u001b[0m\n",
            "\u001b[93m█ \u001b[0m[5/9] Data from Provision_PT_737E_Security_Camera\u001b[0m\n",
            "\u001b[93m█ \u001b[0m[6/9] Data from Provision_PT_838_Security_Camera\u001b[0m\n",
            "\u001b[93m█ \u001b[0m[7/9] Data from Samsung_SNH_1011_N_Webcam\u001b[0m\n",
            "\u001b[93m█ \u001b[0m[8/9] Data from SimpleHome_XCS7_1002_WHT_Security_Camera\u001b[0m\n",
            "\u001b[93m█ \u001b[0m[9/9] Data from SimpleHome_XCS7_1003_WHT_Security_Camera\u001b[0m\n",
            "\u001b[0m\n",
            "\u001b[1mConfiguration [1/9]: {'clients_devices': [[1], [2], [3], [4], [5], [6], [7], [8]], 'test_devices': [0]}\u001b[0m\n",
            "█ \u001b[0m\u001b[37m\u001b[1mRun [1/2]\u001b[0m\n",
            "█ \u001b[0m\u001b[37m█ \u001b[0mMalicious clients: []\u001b[0m\n",
            "█ \u001b[0m\u001b[37m█ \u001b[0m\u001b[91m\u001b[1mComputing the normalization values for each client\u001b[0m\n",
            "█ \u001b[0m\u001b[37m█ \u001b[0m\u001b[90m\u001b[1mFederation round [1/1]\u001b[0m\n",
            "█ \u001b[0m\u001b[37m█ \u001b[0mElapsed time: 90.6 seconds\u001b[0m\n",
            "█ \u001b[0m\u001b[0m\n",
            "█ \u001b[0m\u001b[37m\u001b[1mRun [2/2]\u001b[0m\n",
            "█ \u001b[0m\u001b[37m█ \u001b[0mMalicious clients: []\u001b[0m\n",
            "█ \u001b[0m\u001b[37m█ \u001b[0m\u001b[91m\u001b[1mComputing the normalization values for each client\u001b[0m\n",
            "█ \u001b[0m\u001b[37m█ \u001b[0m\u001b[90m\u001b[1mFederation round [1/1]\u001b[0m\n",
            "█ \u001b[0m\u001b[37m█ \u001b[0mElapsed time: 92.9 seconds\u001b[0m\n",
            "\u001b[0m\n",
            "\u001b[0m\n",
            "\u001b[1mConfiguration [2/9]: {'clients_devices': [[0], [2], [3], [4], [5], [6], [7], [8]], 'test_devices': [1]}\u001b[0m\n",
            "█ \u001b[0m\u001b[37m\u001b[1mRun [1/2]\u001b[0m\n",
            "█ \u001b[0m\u001b[37m█ \u001b[0mMalicious clients: []\u001b[0m\n",
            "█ \u001b[0m\u001b[37m█ \u001b[0m\u001b[91m\u001b[1mComputing the normalization values for each client\u001b[0m\n",
            "█ \u001b[0m\u001b[37m█ \u001b[0m\u001b[90m\u001b[1mFederation round [1/1]\u001b[0m\n",
            "█ \u001b[0m\u001b[37m█ \u001b[0mElapsed time: 78.1 seconds\u001b[0m\n",
            "█ \u001b[0m\u001b[0m\n",
            "█ \u001b[0m\u001b[37m\u001b[1mRun [2/2]\u001b[0m\n",
            "█ \u001b[0m\u001b[37m█ \u001b[0mMalicious clients: []\u001b[0m\n",
            "█ \u001b[0m\u001b[37m█ \u001b[0m\u001b[91m\u001b[1mComputing the normalization values for each client\u001b[0m\n",
            "█ \u001b[0m\u001b[37m█ \u001b[0m\u001b[90m\u001b[1mFederation round [1/1]\u001b[0m\n",
            "█ \u001b[0m\u001b[37m█ \u001b[0mElapsed time: 77.2 seconds\u001b[0m\n",
            "\u001b[0m\n",
            "\u001b[0m\n",
            "\u001b[1mConfiguration [3/9]: {'clients_devices': [[0], [1], [3], [4], [5], [6], [7], [8]], 'test_devices': [2]}\u001b[0m\n",
            "█ \u001b[0m\u001b[37m\u001b[1mRun [1/2]\u001b[0m\n",
            "█ \u001b[0m\u001b[37m█ \u001b[0mMalicious clients: []\u001b[0m\n",
            "█ \u001b[0m\u001b[37m█ \u001b[0m\u001b[91m\u001b[1mComputing the normalization values for each client\u001b[0m\n",
            "█ \u001b[0m\u001b[37m█ \u001b[0m\u001b[90m\u001b[1mFederation round [1/1]\u001b[0m\n",
            "█ \u001b[0m\u001b[37m█ \u001b[0mElapsed time: 92.1 seconds\u001b[0m\n",
            "█ \u001b[0m\u001b[0m\n",
            "█ \u001b[0m\u001b[37m\u001b[1mRun [2/2]\u001b[0m\n",
            "█ \u001b[0m\u001b[37m█ \u001b[0mMalicious clients: []\u001b[0m\n",
            "█ \u001b[0m\u001b[37m█ \u001b[0m\u001b[91m\u001b[1mComputing the normalization values for each client\u001b[0m\n",
            "█ \u001b[0m\u001b[37m█ \u001b[0m\u001b[90m\u001b[1mFederation round [1/1]\u001b[0m\n",
            "█ \u001b[0m\u001b[37m█ \u001b[0mElapsed time: 95.5 seconds\u001b[0m\n",
            "\u001b[0m\n",
            "\u001b[0m\n",
            "\u001b[1mConfiguration [4/9]: {'clients_devices': [[0], [1], [2], [4], [5], [6], [7], [8]], 'test_devices': [3]}\u001b[0m\n",
            "█ \u001b[0m\u001b[37m\u001b[1mRun [1/2]\u001b[0m\n",
            "█ \u001b[0m\u001b[37m█ \u001b[0mMalicious clients: []\u001b[0m\n",
            "█ \u001b[0m\u001b[37m█ \u001b[0m\u001b[91m\u001b[1mComputing the normalization values for each client\u001b[0m\n",
            "█ \u001b[0m\u001b[37m█ \u001b[0m\u001b[90m\u001b[1mFederation round [1/1]\u001b[0m\n",
            "█ \u001b[0m\u001b[37m█ \u001b[0mElapsed time: 86.6 seconds\u001b[0m\n",
            "█ \u001b[0m\u001b[0m\n",
            "█ \u001b[0m\u001b[37m\u001b[1mRun [2/2]\u001b[0m\n",
            "█ \u001b[0m\u001b[37m█ \u001b[0mMalicious clients: []\u001b[0m\n",
            "█ \u001b[0m\u001b[37m█ \u001b[0m\u001b[91m\u001b[1mComputing the normalization values for each client\u001b[0m\n",
            "█ \u001b[0m\u001b[37m█ \u001b[0m\u001b[90m\u001b[1mFederation round [1/1]\u001b[0m\n",
            "█ \u001b[0m\u001b[37m█ \u001b[0mElapsed time: 86.9 seconds\u001b[0m\n",
            "\u001b[0m\n",
            "\u001b[0m\n",
            "\u001b[1mConfiguration [5/9]: {'clients_devices': [[0], [1], [2], [3], [5], [6], [7], [8]], 'test_devices': [4]}\u001b[0m\n",
            "█ \u001b[0m\u001b[37m\u001b[1mRun [1/2]\u001b[0m\n",
            "█ \u001b[0m\u001b[37m█ \u001b[0mMalicious clients: []\u001b[0m\n",
            "█ \u001b[0m\u001b[37m█ \u001b[0m\u001b[91m\u001b[1mComputing the normalization values for each client\u001b[0m\n",
            "█ \u001b[0m\u001b[37m█ \u001b[0m\u001b[90m\u001b[1mFederation round [1/1]\u001b[0m\n",
            "█ \u001b[0m\u001b[37m█ \u001b[0mElapsed time: 85.3 seconds\u001b[0m\n",
            "█ \u001b[0m\u001b[0m\n",
            "█ \u001b[0m\u001b[37m\u001b[1mRun [2/2]\u001b[0m\n",
            "█ \u001b[0m\u001b[37m█ \u001b[0mMalicious clients: []\u001b[0m\n",
            "█ \u001b[0m\u001b[37m█ \u001b[0m\u001b[91m\u001b[1mComputing the normalization values for each client\u001b[0m\n",
            "█ \u001b[0m\u001b[37m█ \u001b[0m\u001b[90m\u001b[1mFederation round [1/1]\u001b[0m\n",
            "█ \u001b[0m\u001b[37m█ \u001b[0mElapsed time: 95.5 seconds\u001b[0m\n",
            "\u001b[0m\n",
            "\u001b[0m\n",
            "\u001b[1mConfiguration [6/9]: {'clients_devices': [[0], [1], [2], [3], [4], [6], [7], [8]], 'test_devices': [5]}\u001b[0m\n",
            "█ \u001b[0m\u001b[37m\u001b[1mRun [1/2]\u001b[0m\n",
            "█ \u001b[0m\u001b[37m█ \u001b[0mMalicious clients: []\u001b[0m\n",
            "█ \u001b[0m\u001b[37m█ \u001b[0m\u001b[91m\u001b[1mComputing the normalization values for each client\u001b[0m\n",
            "█ \u001b[0m\u001b[37m█ \u001b[0m\u001b[90m\u001b[1mFederation round [1/1]\u001b[0m\n",
            "█ \u001b[0m\u001b[37m█ \u001b[0mElapsed time: 95.8 seconds\u001b[0m\n",
            "█ \u001b[0m\u001b[0m\n",
            "█ \u001b[0m\u001b[37m\u001b[1mRun [2/2]\u001b[0m\n",
            "█ \u001b[0m\u001b[37m█ \u001b[0mMalicious clients: []\u001b[0m\n",
            "█ \u001b[0m\u001b[37m█ \u001b[0m\u001b[91m\u001b[1mComputing the normalization values for each client\u001b[0m\n",
            "█ \u001b[0m\u001b[37m█ \u001b[0m\u001b[90m\u001b[1mFederation round [1/1]\u001b[0m\n",
            "█ \u001b[0m\u001b[37m█ \u001b[0mElapsed time: 96.6 seconds\u001b[0m\n",
            "\u001b[0m\n",
            "\u001b[0m\n",
            "\u001b[1mConfiguration [7/9]: {'clients_devices': [[0], [1], [2], [3], [4], [5], [7], [8]], 'test_devices': [6]}\u001b[0m\n",
            "█ \u001b[0m\u001b[37m\u001b[1mRun [1/2]\u001b[0m\n",
            "█ \u001b[0m\u001b[37m█ \u001b[0mMalicious clients: []\u001b[0m\n",
            "█ \u001b[0m\u001b[37m█ \u001b[0m\u001b[91m\u001b[1mComputing the normalization values for each client\u001b[0m\n",
            "█ \u001b[0m\u001b[37m█ \u001b[0m\u001b[90m\u001b[1mFederation round [1/1]\u001b[0m\n",
            "█ \u001b[0m\u001b[37m█ \u001b[0mElapsed time: 91.3 seconds\u001b[0m\n",
            "█ \u001b[0m\u001b[0m\n",
            "█ \u001b[0m\u001b[37m\u001b[1mRun [2/2]\u001b[0m\n",
            "█ \u001b[0m\u001b[37m█ \u001b[0mMalicious clients: []\u001b[0m\n",
            "█ \u001b[0m\u001b[37m█ \u001b[0m\u001b[91m\u001b[1mComputing the normalization values for each client\u001b[0m\n",
            "█ \u001b[0m\u001b[37m█ \u001b[0m\u001b[90m\u001b[1mFederation round [1/1]\u001b[0m\n",
            "█ \u001b[0m\u001b[37m█ \u001b[0mElapsed time: 94.0 seconds\u001b[0m\n",
            "\u001b[0m\n",
            "\u001b[0m\n",
            "\u001b[1mConfiguration [8/9]: {'clients_devices': [[0], [1], [2], [3], [4], [5], [6], [8]], 'test_devices': [7]}\u001b[0m\n",
            "█ \u001b[0m\u001b[37m\u001b[1mRun [1/2]\u001b[0m\n",
            "█ \u001b[0m\u001b[37m█ \u001b[0mMalicious clients: []\u001b[0m\n",
            "█ \u001b[0m\u001b[37m█ \u001b[0m\u001b[91m\u001b[1mComputing the normalization values for each client\u001b[0m\n",
            "█ \u001b[0m\u001b[37m█ \u001b[0m\u001b[90m\u001b[1mFederation round [1/1]\u001b[0m\n",
            "█ \u001b[0m\u001b[37m█ \u001b[0mElapsed time: 85.3 seconds\u001b[0m\n",
            "█ \u001b[0m\u001b[0m\n",
            "█ \u001b[0m\u001b[37m\u001b[1mRun [2/2]\u001b[0m\n",
            "█ \u001b[0m\u001b[37m█ \u001b[0mMalicious clients: []\u001b[0m\n",
            "█ \u001b[0m\u001b[37m█ \u001b[0m\u001b[91m\u001b[1mComputing the normalization values for each client\u001b[0m\n",
            "█ \u001b[0m\u001b[37m█ \u001b[0m\u001b[90m\u001b[1mFederation round [1/1]\u001b[0m\n",
            "█ \u001b[0m\u001b[37m█ \u001b[0mElapsed time: 88.0 seconds\u001b[0m\n",
            "\u001b[0m\n",
            "\u001b[0m\n",
            "\u001b[1mConfiguration [9/9]: {'clients_devices': [[0], [1], [2], [3], [4], [5], [6], [7]], 'test_devices': [8]}\u001b[0m\n",
            "█ \u001b[0m\u001b[37m\u001b[1mRun [1/2]\u001b[0m\n",
            "█ \u001b[0m\u001b[37m█ \u001b[0mMalicious clients: []\u001b[0m\n",
            "█ \u001b[0m\u001b[37m█ \u001b[0m\u001b[91m\u001b[1mComputing the normalization values for each client\u001b[0m\n",
            "█ \u001b[0m\u001b[37m█ \u001b[0m\u001b[90m\u001b[1mFederation round [1/1]\u001b[0m\n",
            "█ \u001b[0m\u001b[37m█ \u001b[0mElapsed time: 92.7 seconds\u001b[0m\n",
            "█ \u001b[0m\u001b[0m\n",
            "█ \u001b[0m\u001b[37m\u001b[1mRun [2/2]\u001b[0m\n",
            "█ \u001b[0m\u001b[37m█ \u001b[0mMalicious clients: []\u001b[0m\n",
            "█ \u001b[0m\u001b[37m█ \u001b[0m\u001b[91m\u001b[1mComputing the normalization values for each client\u001b[0m\n",
            "█ \u001b[0m\u001b[37m█ \u001b[0m\u001b[90m\u001b[1mFederation round [1/1]\u001b[0m\n",
            "█ \u001b[0m\u001b[37m█ \u001b[0mElapsed time: 90.2 seconds\u001b[0m\n",
            "Creating folder test_results/decentralized_classifier_fedavg/run_0/\u001b[0m\n"
          ]
        }
      ]
    },
    {
      "cell_type": "code",
      "source": [
        "!python src/main.py decentralized classifier --test --fedsgd --collaborative --verbose-depth=2"
      ],
      "metadata": {
        "id": "2kfksWFxCOK2",
        "colab": {
          "base_uri": "https://localhost:8080/"
        },
        "outputId": "17d9cb2a-c5eb-42d0-e92d-54c06979f34e"
      },
      "execution_count": null,
      "outputs": [
        {
          "output_type": "stream",
          "name": "stdout",
          "text": [
            "\u001b[1m\u001b[0m\n",
            "\u001b[1m\t\t\t\t\tFEDSGD DECENTRALIZED CLASSIFIER TESTING\u001b[0m\n",
            "\u001b[1m\u001b[0m\n",
            "Using CPU\u001b[0m\n",
            "\u001b[94mFederation params: {'aggregation_function': <function federated_averaging at 0x7fa5b3898af0>, 'resampling': None, 'train_bs': 8}\u001b[0m\n",
            "[{'clients_devices': [[1], [2], [3], [4], [5], [6], [7], [8]], 'test_devices': [0]}, {'clients_devices': [[0], [2], [3], [4], [5], [6], [7], [8]], 'test_devices': [1]}, {'clients_devices': [[0], [1], [3], [4], [5], [6], [7], [8]], 'test_devices': [2]}, {'clients_devices': [[0], [1], [2], [4], [5], [6], [7], [8]], 'test_devices': [3]}, {'clients_devices': [[0], [1], [2], [3], [5], [6], [7], [8]], 'test_devices': [4]}, {'clients_devices': [[0], [1], [2], [3], [4], [6], [7], [8]], 'test_devices': [5]}, {'clients_devices': [[0], [1], [2], [3], [4], [5], [7], [8]], 'test_devices': [6]}, {'clients_devices': [[0], [1], [2], [3], [4], [5], [6], [8]], 'test_devices': [7]}, {'clients_devices': [[0], [1], [2], [3], [4], [5], [6], [7]], 'test_devices': [8]}]\u001b[0m\n",
            "\u001b[93m\u001b[1mReading data\u001b[0m\n",
            "\u001b[93m█ \u001b[0m[1/9] Data from Danmini_Doorbell\u001b[0m\n",
            "\u001b[93m█ \u001b[0m[2/9] Data from Ecobee_Thermostat\u001b[0m\n",
            "\u001b[93m█ \u001b[0m[3/9] Data from Ennio_Doorbell\u001b[0m\n",
            "\u001b[93m█ \u001b[0m[4/9] Data from Philips_B120N10_Baby_Monitor\u001b[0m\n",
            "\u001b[93m█ \u001b[0m[5/9] Data from Provision_PT_737E_Security_Camera\u001b[0m\n",
            "\u001b[93m█ \u001b[0m[6/9] Data from Provision_PT_838_Security_Camera\u001b[0m\n",
            "\u001b[93m█ \u001b[0m[7/9] Data from Samsung_SNH_1011_N_Webcam\u001b[0m\n",
            "\u001b[93m█ \u001b[0m[8/9] Data from SimpleHome_XCS7_1002_WHT_Security_Camera\u001b[0m\n",
            "\u001b[93m█ \u001b[0m[9/9] Data from SimpleHome_XCS7_1003_WHT_Security_Camera\u001b[0m\n",
            "\u001b[0m\n",
            "\u001b[1mConfiguration [1/9]: {'clients_devices': [[1], [2], [3], [4], [5], [6], [7], [8]], 'test_devices': [0]}\u001b[0m\n",
            "█ \u001b[0m\u001b[37m\u001b[1mRun [1/2]\u001b[0m\n",
            "█ \u001b[0m\u001b[37m█ \u001b[0mMalicious clients: []\u001b[0m\n",
            "█ \u001b[0m\u001b[37m█ \u001b[0m\u001b[91m\u001b[1mComputing the normalization values for each client\u001b[0m\n",
            "█ \u001b[0m\u001b[37m█ \u001b[0m\u001b[90m\u001b[1mEpoch [1/4]\u001b[0m\n",
            "█ \u001b[0m\u001b[37m█ \u001b[0m\u001b[90m\u001b[1mEpoch [2/4]\u001b[0m\n",
            "█ \u001b[0m\u001b[37m█ \u001b[0m\u001b[90m\u001b[1mEpoch [3/4]\u001b[0m\n",
            "█ \u001b[0m\u001b[37m█ \u001b[0m\u001b[90m\u001b[1mEpoch [4/4]\u001b[0m\n",
            "█ \u001b[0m\u001b[37m█ \u001b[0mElapsed time: 940.0 seconds\u001b[0m\n",
            "█ \u001b[0m\u001b[0m\n",
            "█ \u001b[0m\u001b[37m\u001b[1mRun [2/2]\u001b[0m\n",
            "█ \u001b[0m\u001b[37m█ \u001b[0mMalicious clients: []\u001b[0m\n",
            "█ \u001b[0m\u001b[37m█ \u001b[0m\u001b[91m\u001b[1mComputing the normalization values for each client\u001b[0m\n",
            "█ \u001b[0m\u001b[37m█ \u001b[0m\u001b[90m\u001b[1mEpoch [1/4]\u001b[0m\n",
            "█ \u001b[0m\u001b[37m█ \u001b[0m\u001b[90m\u001b[1mEpoch [2/4]\u001b[0m\n",
            "█ \u001b[0m\u001b[37m█ \u001b[0m\u001b[90m\u001b[1mEpoch [3/4]\u001b[0m\n",
            "█ \u001b[0m\u001b[37m█ \u001b[0m\u001b[90m\u001b[1mEpoch [4/4]\u001b[0m\n",
            "█ \u001b[0m\u001b[37m█ \u001b[0mElapsed time: 939.5 seconds\u001b[0m\n",
            "\u001b[0m\n",
            "\u001b[0m\n",
            "\u001b[1mConfiguration [2/9]: {'clients_devices': [[0], [2], [3], [4], [5], [6], [7], [8]], 'test_devices': [1]}\u001b[0m\n",
            "█ \u001b[0m\u001b[37m\u001b[1mRun [1/2]\u001b[0m\n",
            "█ \u001b[0m\u001b[37m█ \u001b[0mMalicious clients: []\u001b[0m\n",
            "█ \u001b[0m\u001b[37m█ \u001b[0m\u001b[91m\u001b[1mComputing the normalization values for each client\u001b[0m\n",
            "█ \u001b[0m\u001b[37m█ \u001b[0m\u001b[90m\u001b[1mEpoch [1/4]\u001b[0m\n",
            "█ \u001b[0m\u001b[37m█ \u001b[0m\u001b[90m\u001b[1mEpoch [2/4]\u001b[0m\n",
            "█ \u001b[0m\u001b[37m█ \u001b[0m\u001b[90m\u001b[1mEpoch [3/4]\u001b[0m\n",
            "█ \u001b[0m\u001b[37m█ \u001b[0m\u001b[90m\u001b[1mEpoch [4/4]\u001b[0m\n",
            "█ \u001b[0m\u001b[37m█ \u001b[0mElapsed time: 618.6 seconds\u001b[0m\n",
            "█ \u001b[0m\u001b[0m\n",
            "█ \u001b[0m\u001b[37m\u001b[1mRun [2/2]\u001b[0m\n",
            "█ \u001b[0m\u001b[37m█ \u001b[0mMalicious clients: []\u001b[0m\n",
            "█ \u001b[0m\u001b[37m█ \u001b[0m\u001b[91m\u001b[1mComputing the normalization values for each client\u001b[0m\n",
            "█ \u001b[0m\u001b[37m█ \u001b[0m\u001b[90m\u001b[1mEpoch [1/4]\u001b[0m\n",
            "█ \u001b[0m\u001b[37m█ \u001b[0m\u001b[90m\u001b[1mEpoch [2/4]\u001b[0m\n",
            "█ \u001b[0m\u001b[37m█ \u001b[0m\u001b[90m\u001b[1mEpoch [3/4]\u001b[0m\n",
            "█ \u001b[0m\u001b[37m█ \u001b[0m\u001b[90m\u001b[1mEpoch [4/4]\u001b[0m\n",
            "█ \u001b[0m\u001b[37m█ \u001b[0mElapsed time: 611.3 seconds\u001b[0m\n",
            "\u001b[0m\n",
            "\u001b[0m\n",
            "\u001b[1mConfiguration [3/9]: {'clients_devices': [[0], [1], [3], [4], [5], [6], [7], [8]], 'test_devices': [2]}\u001b[0m\n",
            "█ \u001b[0m\u001b[37m\u001b[1mRun [1/2]\u001b[0m\n",
            "█ \u001b[0m\u001b[37m█ \u001b[0mMalicious clients: []\u001b[0m\n",
            "█ \u001b[0m\u001b[37m█ \u001b[0m\u001b[91m\u001b[1mComputing the normalization values for each client\u001b[0m\n",
            "█ \u001b[0m\u001b[37m█ \u001b[0m\u001b[90m\u001b[1mEpoch [1/4]\u001b[0m\n",
            "█ \u001b[0m\u001b[37m█ \u001b[0m\u001b[90m\u001b[1mEpoch [2/4]\u001b[0m\n",
            "█ \u001b[0m\u001b[37m█ \u001b[0m\u001b[90m\u001b[1mEpoch [3/4]\u001b[0m\n",
            "█ \u001b[0m\u001b[37m█ \u001b[0m\u001b[90m\u001b[1mEpoch [4/4]\u001b[0m\n",
            "█ \u001b[0m\u001b[37m█ \u001b[0mElapsed time: 939.2 seconds\u001b[0m\n",
            "█ \u001b[0m\u001b[0m\n",
            "█ \u001b[0m\u001b[37m\u001b[1mRun [2/2]\u001b[0m\n",
            "█ \u001b[0m\u001b[37m█ \u001b[0mMalicious clients: []\u001b[0m\n",
            "█ \u001b[0m\u001b[37m█ \u001b[0m\u001b[91m\u001b[1mComputing the normalization values for each client\u001b[0m\n",
            "█ \u001b[0m\u001b[37m█ \u001b[0m\u001b[90m\u001b[1mEpoch [1/4]\u001b[0m\n",
            "█ \u001b[0m\u001b[37m█ \u001b[0m\u001b[90m\u001b[1mEpoch [2/4]\u001b[0m\n",
            "█ \u001b[0m\u001b[37m█ \u001b[0m\u001b[90m\u001b[1mEpoch [3/4]\u001b[0m\n",
            "█ \u001b[0m\u001b[37m█ \u001b[0m\u001b[90m\u001b[1mEpoch [4/4]\u001b[0m\n",
            "█ \u001b[0m\u001b[37m█ \u001b[0mElapsed time: 940.8 seconds\u001b[0m\n",
            "\u001b[0m\n",
            "\u001b[0m\n",
            "\u001b[1mConfiguration [4/9]: {'clients_devices': [[0], [1], [2], [4], [5], [6], [7], [8]], 'test_devices': [3]}\u001b[0m\n",
            "█ \u001b[0m\u001b[37m\u001b[1mRun [1/2]\u001b[0m\n",
            "█ \u001b[0m\u001b[37m█ \u001b[0mMalicious clients: []\u001b[0m\n",
            "█ \u001b[0m\u001b[37m█ \u001b[0m\u001b[91m\u001b[1mComputing the normalization values for each client\u001b[0m\n",
            "█ \u001b[0m\u001b[37m█ \u001b[0m\u001b[90m\u001b[1mEpoch [1/4]\u001b[0m\n",
            "█ \u001b[0m\u001b[37m█ \u001b[0m\u001b[90m\u001b[1mEpoch [2/4]\u001b[0m\n",
            "█ \u001b[0m\u001b[37m█ \u001b[0m\u001b[90m\u001b[1mEpoch [3/4]\u001b[0m\n",
            "█ \u001b[0m\u001b[37m█ \u001b[0m\u001b[90m\u001b[1mEpoch [4/4]\u001b[0m\n",
            "█ \u001b[0m\u001b[37m█ \u001b[0mElapsed time: 781.4 seconds\u001b[0m\n",
            "█ \u001b[0m\u001b[0m\n",
            "█ \u001b[0m\u001b[37m\u001b[1mRun [2/2]\u001b[0m\n",
            "█ \u001b[0m\u001b[37m█ \u001b[0mMalicious clients: []\u001b[0m\n",
            "█ \u001b[0m\u001b[37m█ \u001b[0m\u001b[91m\u001b[1mComputing the normalization values for each client\u001b[0m\n",
            "█ \u001b[0m\u001b[37m█ \u001b[0m\u001b[90m\u001b[1mEpoch [1/4]\u001b[0m\n",
            "█ \u001b[0m\u001b[37m█ \u001b[0m\u001b[90m\u001b[1mEpoch [2/4]\u001b[0m\n",
            "█ \u001b[0m\u001b[37m█ \u001b[0m\u001b[90m\u001b[1mEpoch [3/4]\u001b[0m\n",
            "█ \u001b[0m\u001b[37m█ \u001b[0m\u001b[90m\u001b[1mEpoch [4/4]\u001b[0m\n",
            "█ \u001b[0m\u001b[37m█ \u001b[0mElapsed time: 779.9 seconds\u001b[0m\n",
            "\u001b[0m\n",
            "\u001b[0m\n",
            "\u001b[1mConfiguration [5/9]: {'clients_devices': [[0], [1], [2], [3], [5], [6], [7], [8]], 'test_devices': [4]}\u001b[0m\n",
            "█ \u001b[0m\u001b[37m\u001b[1mRun [1/2]\u001b[0m\n",
            "█ \u001b[0m\u001b[37m█ \u001b[0mMalicious clients: []\u001b[0m\n",
            "█ \u001b[0m\u001b[37m█ \u001b[0m\u001b[91m\u001b[1mComputing the normalization values for each client\u001b[0m\n",
            "█ \u001b[0m\u001b[37m█ \u001b[0m\u001b[90m\u001b[1mEpoch [1/4]\u001b[0m\n",
            "█ \u001b[0m\u001b[37m█ \u001b[0m\u001b[90m\u001b[1mEpoch [2/4]\u001b[0m\n",
            "█ \u001b[0m\u001b[37m█ \u001b[0m\u001b[90m\u001b[1mEpoch [3/4]\u001b[0m\n",
            "█ \u001b[0m\u001b[37m█ \u001b[0m\u001b[90m\u001b[1mEpoch [4/4]\u001b[0m\n",
            "█ \u001b[0m\u001b[37m█ \u001b[0mElapsed time: 783.8 seconds\u001b[0m\n",
            "█ \u001b[0m\u001b[0m\n",
            "█ \u001b[0m\u001b[37m\u001b[1mRun [2/2]\u001b[0m\n",
            "█ \u001b[0m\u001b[37m█ \u001b[0mMalicious clients: []\u001b[0m\n",
            "█ \u001b[0m\u001b[37m█ \u001b[0m\u001b[91m\u001b[1mComputing the normalization values for each client\u001b[0m\n",
            "█ \u001b[0m\u001b[37m█ \u001b[0m\u001b[90m\u001b[1mEpoch [1/4]\u001b[0m\n",
            "█ \u001b[0m\u001b[37m█ \u001b[0m\u001b[90m\u001b[1mEpoch [2/4]\u001b[0m\n",
            "█ \u001b[0m\u001b[37m█ \u001b[0m\u001b[90m\u001b[1mEpoch [3/4]\u001b[0m\n",
            "█ \u001b[0m\u001b[37m█ \u001b[0m\u001b[90m\u001b[1mEpoch [4/4]\u001b[0m\n",
            "█ \u001b[0m\u001b[37m█ \u001b[0mElapsed time: 794.1 seconds\u001b[0m\n",
            "\u001b[0m\n",
            "\u001b[0m\n",
            "\u001b[1mConfiguration [6/9]: {'clients_devices': [[0], [1], [2], [3], [4], [6], [7], [8]], 'test_devices': [5]}\u001b[0m\n",
            "█ \u001b[0m\u001b[37m\u001b[1mRun [1/2]\u001b[0m\n",
            "█ \u001b[0m\u001b[37m█ \u001b[0mMalicious clients: []\u001b[0m\n",
            "█ \u001b[0m\u001b[37m█ \u001b[0m\u001b[91m\u001b[1mComputing the normalization values for each client\u001b[0m\n",
            "█ \u001b[0m\u001b[37m█ \u001b[0m\u001b[90m\u001b[1mEpoch [1/4]\u001b[0m\n",
            "█ \u001b[0m\u001b[37m█ \u001b[0m\u001b[90m\u001b[1mEpoch [2/4]\u001b[0m\n",
            "█ \u001b[0m\u001b[37m█ \u001b[0m\u001b[90m\u001b[1mEpoch [3/4]\u001b[0m\n",
            "█ \u001b[0m\u001b[37m█ \u001b[0m\u001b[90m\u001b[1mEpoch [4/4]\u001b[0m\n",
            "█ \u001b[0m\u001b[37m█ \u001b[0mElapsed time: 955.0 seconds\u001b[0m\n",
            "█ \u001b[0m\u001b[0m\n",
            "█ \u001b[0m\u001b[37m\u001b[1mRun [2/2]\u001b[0m\n",
            "█ \u001b[0m\u001b[37m█ \u001b[0mMalicious clients: []\u001b[0m\n",
            "█ \u001b[0m\u001b[37m█ \u001b[0m\u001b[91m\u001b[1mComputing the normalization values for each client\u001b[0m\n",
            "█ \u001b[0m\u001b[37m█ \u001b[0m\u001b[90m\u001b[1mEpoch [1/4]\u001b[0m\n",
            "█ \u001b[0m\u001b[37m█ \u001b[0m\u001b[90m\u001b[1mEpoch [2/4]\u001b[0m\n",
            "█ \u001b[0m\u001b[37m█ \u001b[0m\u001b[90m\u001b[1mEpoch [3/4]\u001b[0m\n",
            "█ \u001b[0m\u001b[37m█ \u001b[0m\u001b[90m\u001b[1mEpoch [4/4]\u001b[0m\n",
            "█ \u001b[0m\u001b[37m█ \u001b[0mElapsed time: 953.1 seconds\u001b[0m\n",
            "\u001b[0m\n",
            "\u001b[0m\n",
            "\u001b[1mConfiguration [7/9]: {'clients_devices': [[0], [1], [2], [3], [4], [5], [7], [8]], 'test_devices': [6]}\u001b[0m\n",
            "█ \u001b[0m\u001b[37m\u001b[1mRun [1/2]\u001b[0m\n",
            "█ \u001b[0m\u001b[37m█ \u001b[0mMalicious clients: []\u001b[0m\n",
            "█ \u001b[0m\u001b[37m█ \u001b[0m\u001b[91m\u001b[1mComputing the normalization values for each client\u001b[0m\n",
            "█ \u001b[0m\u001b[37m█ \u001b[0m\u001b[90m\u001b[1mEpoch [1/4]\u001b[0m\n",
            "█ \u001b[0m\u001b[37m█ \u001b[0m\u001b[90m\u001b[1mEpoch [2/4]\u001b[0m\n",
            "█ \u001b[0m\u001b[37m█ \u001b[0m\u001b[90m\u001b[1mEpoch [3/4]\u001b[0m\n",
            "█ \u001b[0m\u001b[37m█ \u001b[0m\u001b[90m\u001b[1mEpoch [4/4]\u001b[0m\n",
            "█ \u001b[0m\u001b[37m█ \u001b[0mElapsed time: 937.3 seconds\u001b[0m\n",
            "█ \u001b[0m\u001b[0m\n",
            "█ \u001b[0m\u001b[37m\u001b[1mRun [2/2]\u001b[0m\n",
            "█ \u001b[0m\u001b[37m█ \u001b[0mMalicious clients: []\u001b[0m\n",
            "█ \u001b[0m\u001b[37m█ \u001b[0m\u001b[91m\u001b[1mComputing the normalization values for each client\u001b[0m\n",
            "█ \u001b[0m\u001b[37m█ \u001b[0m\u001b[90m\u001b[1mEpoch [1/4]\u001b[0m\n",
            "█ \u001b[0m\u001b[37m█ \u001b[0m\u001b[90m\u001b[1mEpoch [2/4]\u001b[0m\n",
            "█ \u001b[0m\u001b[37m█ \u001b[0m\u001b[90m\u001b[1mEpoch [3/4]\u001b[0m\n",
            "█ \u001b[0m\u001b[37m█ \u001b[0m\u001b[90m\u001b[1mEpoch [4/4]\u001b[0m\n",
            "█ \u001b[0m\u001b[37m█ \u001b[0mElapsed time: 930.6 seconds\u001b[0m\n",
            "\u001b[0m\n",
            "\u001b[0m\n",
            "\u001b[1mConfiguration [8/9]: {'clients_devices': [[0], [1], [2], [3], [4], [5], [6], [8]], 'test_devices': [7]}\u001b[0m\n",
            "█ \u001b[0m\u001b[37m\u001b[1mRun [1/2]\u001b[0m\n",
            "█ \u001b[0m\u001b[37m█ \u001b[0mMalicious clients: []\u001b[0m\n",
            "█ \u001b[0m\u001b[37m█ \u001b[0m\u001b[91m\u001b[1mComputing the normalization values for each client\u001b[0m\n",
            "█ \u001b[0m\u001b[37m█ \u001b[0m\u001b[90m\u001b[1mEpoch [1/4]\u001b[0m\n",
            "█ \u001b[0m\u001b[37m█ \u001b[0m\u001b[90m\u001b[1mEpoch [2/4]\u001b[0m\n",
            "█ \u001b[0m\u001b[37m█ \u001b[0m\u001b[90m\u001b[1mEpoch [3/4]\u001b[0m\n",
            "█ \u001b[0m\u001b[37m█ \u001b[0m\u001b[90m\u001b[1mEpoch [4/4]\u001b[0m\n",
            "█ \u001b[0m\u001b[37m█ \u001b[0mElapsed time: 786.2 seconds\u001b[0m\n",
            "█ \u001b[0m\u001b[0m\n",
            "█ \u001b[0m\u001b[37m\u001b[1mRun [2/2]\u001b[0m\n",
            "█ \u001b[0m\u001b[37m█ \u001b[0mMalicious clients: []\u001b[0m\n",
            "█ \u001b[0m\u001b[37m█ \u001b[0m\u001b[91m\u001b[1mComputing the normalization values for each client\u001b[0m\n",
            "█ \u001b[0m\u001b[37m█ \u001b[0m\u001b[90m\u001b[1mEpoch [1/4]\u001b[0m\n",
            "█ \u001b[0m\u001b[37m█ \u001b[0m\u001b[90m\u001b[1mEpoch [2/4]\u001b[0m\n",
            "█ \u001b[0m\u001b[37m█ \u001b[0m\u001b[90m\u001b[1mEpoch [3/4]\u001b[0m\n",
            "█ \u001b[0m\u001b[37m█ \u001b[0m\u001b[90m\u001b[1mEpoch [4/4]\u001b[0m\n",
            "█ \u001b[0m\u001b[37m█ \u001b[0mElapsed time: 776.4 seconds\u001b[0m\n",
            "\u001b[0m\n",
            "\u001b[0m\n",
            "\u001b[1mConfiguration [9/9]: {'clients_devices': [[0], [1], [2], [3], [4], [5], [6], [7]], 'test_devices': [8]}\u001b[0m\n",
            "█ \u001b[0m\u001b[37m\u001b[1mRun [1/2]\u001b[0m\n",
            "█ \u001b[0m\u001b[37m█ \u001b[0mMalicious clients: []\u001b[0m\n",
            "█ \u001b[0m\u001b[37m█ \u001b[0m\u001b[91m\u001b[1mComputing the normalization values for each client\u001b[0m\n",
            "█ \u001b[0m\u001b[37m█ \u001b[0m\u001b[90m\u001b[1mEpoch [1/4]\u001b[0m\n",
            "█ \u001b[0m\u001b[37m█ \u001b[0m\u001b[90m\u001b[1mEpoch [2/4]\u001b[0m\n",
            "█ \u001b[0m\u001b[37m█ \u001b[0m\u001b[90m\u001b[1mEpoch [3/4]\u001b[0m\n",
            "█ \u001b[0m\u001b[37m█ \u001b[0m\u001b[90m\u001b[1mEpoch [4/4]\u001b[0m\n",
            "█ \u001b[0m\u001b[37m█ \u001b[0mElapsed time: 783.9 seconds\u001b[0m\n",
            "█ \u001b[0m\u001b[0m\n",
            "█ \u001b[0m\u001b[37m\u001b[1mRun [2/2]\u001b[0m\n",
            "█ \u001b[0m\u001b[37m█ \u001b[0mMalicious clients: []\u001b[0m\n",
            "█ \u001b[0m\u001b[37m█ \u001b[0m\u001b[91m\u001b[1mComputing the normalization values for each client\u001b[0m\n",
            "█ \u001b[0m\u001b[37m█ \u001b[0m\u001b[90m\u001b[1mEpoch [1/4]\u001b[0m\n",
            "█ \u001b[0m\u001b[37m█ \u001b[0m\u001b[90m\u001b[1mEpoch [2/4]\u001b[0m\n",
            "█ \u001b[0m\u001b[37m█ \u001b[0m\u001b[90m\u001b[1mEpoch [3/4]\u001b[0m\n",
            "█ \u001b[0m\u001b[37m█ \u001b[0m\u001b[90m\u001b[1mEpoch [4/4]\u001b[0m\n",
            "█ \u001b[0m\u001b[37m█ \u001b[0mElapsed time: 785.6 seconds\u001b[0m\n",
            "Creating folder test_results/decentralized_classifier_fedsgd/run_0/\u001b[0m\n"
          ]
        }
      ]
    },
    {
      "cell_type": "markdown",
      "source": [
        "### Non - federated"
      ],
      "metadata": {
        "id": "30AzjZTyA8ya"
      }
    },
    {
      "cell_type": "code",
      "source": [
        "!python src/main.py decentralized autoencoder --test --collaborative --verbose-depth=2"
      ],
      "metadata": {
        "id": "DCljnzyZTAd4"
      },
      "execution_count": null,
      "outputs": []
    },
    {
      "cell_type": "code",
      "source": [
        "!python src/main.py decentralized classifier --test --collaborative --verbose-depth=2"
      ],
      "metadata": {
        "id": "yKJpGIatBtma"
      },
      "execution_count": null,
      "outputs": []
    },
    {
      "cell_type": "code",
      "source": [
        "!python src/main.py centralized autoencoder --test  --verbose-depth=2"
      ],
      "metadata": {
        "id": "6BW2xVt8CReR"
      },
      "execution_count": null,
      "outputs": []
    },
    {
      "cell_type": "code",
      "source": [
        "!python src/main.py centralized classifier --test  --verbose-depth=2"
      ],
      "metadata": {
        "id": "bzEe3H5_CX0-"
      },
      "execution_count": null,
      "outputs": []
    }
  ],
  "metadata": {
    "colab": {
      "provenance": []
    },
    "kernelspec": {
      "display_name": "Python 3",
      "name": "python3"
    },
    "language_info": {
      "name": "python"
    }
  },
  "nbformat": 4,
  "nbformat_minor": 0
}